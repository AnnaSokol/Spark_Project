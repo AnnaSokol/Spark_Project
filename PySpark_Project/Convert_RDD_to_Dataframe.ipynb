{
 "cells": [
  {
   "cell_type": "code",
   "execution_count": 1,
   "metadata": {},
   "outputs": [],
   "source": [
    "import findspark\n",
    "findspark.init()"
   ]
  },
  {
   "cell_type": "code",
   "execution_count": 2,
   "metadata": {},
   "outputs": [],
   "source": [
    "from pyspark.sql import SparkSession\n",
    "from pyspark.conf import SparkConf"
   ]
  },
  {
   "cell_type": "code",
   "execution_count": 3,
   "metadata": {},
   "outputs": [
    {
     "name": "stderr",
     "output_type": "stream",
     "text": [
      "/home/anea/.local/lib/python3.6/site-packages/pyspark/context.py:238: FutureWarning: Python 3.6 support is deprecated in Spark 3.2.\n",
      "  FutureWarning\n"
     ]
    }
   ],
   "source": [
    "spark=SparkSession.builder\\\n",
    "    .master(\"local[*]\")\\\n",
    "    .appName(\"WordCount\")\\\n",
    "    .getOrCreate()"
   ]
  },
  {
   "cell_type": "code",
   "execution_count": 4,
   "metadata": {},
   "outputs": [],
   "source": [
    "sc=spark.sparkContext"
   ]
  },
  {
   "cell_type": "code",
   "execution_count": 9,
   "metadata": {},
   "outputs": [],
   "source": [
    "conf=SparkConf()\\\n",
    "        .setMaster(\"local\")\\\n",
    "        .setAppName(\"WordCount\")\\\n",
    "        .setExecutorEnv(\"spark.executor.memory\",\"4g\")\\\n",
    "        .setExecutorEnv(\"spark.driver.memory\",\"4g\")\\\n",
    "\n",
    "spark=SparkSession.builder\\\n",
    "        .config(conf=conf)\\\n",
    "        .getOrCreate()"
   ]
  },
  {
   "cell_type": "code",
   "execution_count": 10,
   "metadata": {},
   "outputs": [],
   "source": [
    "text_file=\"/home/anea/HTW_SS23/Prog_Alg/python-ws/bisText.txt\""
   ]
  },
  {
   "cell_type": "code",
   "execution_count": 11,
   "metadata": {},
   "outputs": [],
   "source": [
    "file_rdd=sc.textFile(text_file)"
   ]
  },
  {
   "cell_type": "code",
   "execution_count": 17,
   "metadata": {},
   "outputs": [
    {
     "data": {
      "text/plain": [
       "['kurd laßwitz',\n",
       " '',\n",
       " '',\n",
       " 'bis zum nullpunkt des seins',\n",
       " '',\n",
       " '',\n",
       " 'erzählung aus dem jahre 2371',\n",
       " '',\n",
       " '',\n",
       " '',\n",
       " '',\n",
       " '',\n",
       " 'das geruchsklavier',\n",
       " '',\n",
       " '',\n",
       " '',\n",
       " '',\n",
       " 'aromasia saß im garten ihres hauses und sah träumerisch ins blau des schönen sommertages vom jahre 2371 sie folgte mit ihren blicken den kleinen dunklen wolken welche sich hier und da plötzlich in der atmosphäre bildeten und einen regenguß herabströmen ließen oder sie spähte nach den fliegenden wagen und luftvelozipeden aus die zu ihren füßen in buntem gewühle die breite straße erfüllten denn der garten aromasias befand sich in der luftigen höhe von ungefähr hundert metern über dem erdboden auf dem dache ihres hauses',\n",
       " '',\n",
       " 'man sah sich genötigt die wohnhäuser in so gewaltigen dimensionen aufzutürmen und die gärten über ihnen anzubringen da man den raum der ebenen erde dem ackerbau vorbehalten mußte so reichbevölkert war der erdball daß man jedes plätzchen dem anbau der halmfrucht und der ernährung des schlachtviehs widmen mußte um die gefahr einer hungersnot abzuwenden']"
      ]
     },
     "execution_count": 17,
     "metadata": {},
     "output_type": "execute_result"
    }
   ],
   "source": [
    "file_rdd.take(20)"
   ]
  },
  {
   "cell_type": "code",
   "execution_count": 14,
   "metadata": {},
   "outputs": [],
   "source": [
    "def lower_clean_str(x):\n",
    "    punc='!\"#$%\\'()*+,./:;<=>?@[\\\\]′_{|}~'\n",
    "    lowercased_str = x.lower()\n",
    "    for ch in punc:\n",
    "        lowercased_str = lowercased_str.replace(ch, '')\n",
    "    return lowercased_str"
   ]
  },
  {
   "cell_type": "code",
   "execution_count": 15,
   "metadata": {},
   "outputs": [],
   "source": [
    "file_rdd = file_rdd.map(lower_clean_str)"
   ]
  },
  {
   "cell_type": "code",
   "execution_count": 16,
   "metadata": {},
   "outputs": [
    {
     "data": {
      "text/plain": [
       "['kurd laßwitz',\n",
       " '',\n",
       " '',\n",
       " 'bis zum nullpunkt des seins',\n",
       " '',\n",
       " '',\n",
       " 'erzählung aus dem jahre 2371',\n",
       " '',\n",
       " '',\n",
       " '']"
      ]
     },
     "execution_count": 16,
     "metadata": {},
     "output_type": "execute_result"
    }
   ],
   "source": [
    "file_rdd.take(20)"
   ]
  },
  {
   "cell_type": "code",
   "execution_count": 18,
   "metadata": {},
   "outputs": [],
   "source": [
    "text2_file=\"/home/anea/HTW_SS23/Prog_Alg/python-ws/bisText.txt\""
   ]
  },
  {
   "cell_type": "code",
   "execution_count": 20,
   "metadata": {},
   "outputs": [],
   "source": [
    "file2_rdd=sc.textFile(text2_file)"
   ]
  },
  {
   "cell_type": "code",
   "execution_count": 21,
   "metadata": {},
   "outputs": [
    {
     "data": {
      "text/plain": [
       "['Kurd Laßwitz',\n",
       " '',\n",
       " '',\n",
       " 'Bis zum Nullpunkt des Seins',\n",
       " '',\n",
       " '',\n",
       " 'Erzählung aus dem Jahre 2371',\n",
       " '',\n",
       " '',\n",
       " '',\n",
       " '',\n",
       " '',\n",
       " 'Das Geruchsklavier',\n",
       " '',\n",
       " '',\n",
       " '',\n",
       " '',\n",
       " 'Aromasia saß im Garten ihres Hauses und sah träumerisch ins Blau des schönen Sommertages vom Jahre 2371. Sie folgte mit ihren Blicken den kleinen dunklen Wolken, welche sich hier und da plötzlich in der Atmosphäre bildeten und einen Regenguß herabströmen ließen; oder sie spähte nach den fliegenden Wagen und Luftvelozipeden aus, die zu ihren Füßen in buntem Gewühle die breite Straße erfüllten. Denn der Garten Aromasias befand sich in der luftigen Höhe von ungefähr hundert Metern über dem Erdboden auf dem Dache ihres Hauses.',\n",
       " '',\n",
       " 'Man sah sich genötigt, die Wohnhäuser in so gewaltigen Dimensionen aufzutürmen und die Gärten über ihnen anzubringen, da man den Raum der ebenen Erde dem Ackerbau vorbehalten mußte. So reichbevölkert war der Erdball, daß man jedes Plätzchen dem Anbau der Halmfrucht und der Ernährung des Schlachtviehs widmen mußte, um die Gefahr einer Hungersnot abzuwenden.']"
      ]
     },
     "execution_count": 21,
     "metadata": {},
     "output_type": "execute_result"
    }
   ],
   "source": [
    "file2_rdd.take(20)"
   ]
  },
  {
   "cell_type": "code",
   "execution_count": 22,
   "metadata": {},
   "outputs": [],
   "source": [
    "file_rdd=file_rdd.flatMap(lambda satir: satir.split(\" \"))"
   ]
  },
  {
   "cell_type": "code",
   "execution_count": 23,
   "metadata": {},
   "outputs": [
    {
     "data": {
      "text/plain": [
       "['kurd', 'laßwitz', '', '', 'bis']"
      ]
     },
     "execution_count": 23,
     "metadata": {},
     "output_type": "execute_result"
    }
   ],
   "source": [
    "file_rdd.take(5)"
   ]
  },
  {
   "cell_type": "code",
   "execution_count": 24,
   "metadata": {},
   "outputs": [
    {
     "data": {
      "text/plain": [
       "['kurd', 'laßwitz', '', '', 'bis', 'zum', 'nullpunkt', 'des', 'seins', '']"
      ]
     },
     "execution_count": 24,
     "metadata": {},
     "output_type": "execute_result"
    }
   ],
   "source": [
    "file_rdd.take(10)"
   ]
  },
  {
   "cell_type": "code",
   "execution_count": 25,
   "metadata": {},
   "outputs": [],
   "source": [
    "file_rdd=file_rdd.filter(lambda x:x!='')"
   ]
  },
  {
   "cell_type": "code",
   "execution_count": 26,
   "metadata": {},
   "outputs": [
    {
     "data": {
      "text/plain": [
       "['kurd',\n",
       " 'laßwitz',\n",
       " 'bis',\n",
       " 'zum',\n",
       " 'nullpunkt',\n",
       " 'des',\n",
       " 'seins',\n",
       " 'erzählung',\n",
       " 'aus',\n",
       " 'dem']"
      ]
     },
     "execution_count": 26,
     "metadata": {},
     "output_type": "execute_result"
    }
   ],
   "source": [
    "file_rdd.take(10)"
   ]
  },
  {
   "cell_type": "code",
   "execution_count": 27,
   "metadata": {},
   "outputs": [
    {
     "data": {
      "text/plain": [
       "['kurd', 'laßwitz', 'bis', 'zum']"
      ]
     },
     "execution_count": 27,
     "metadata": {},
     "output_type": "execute_result"
    }
   ],
   "source": [
    "file_rdd.take(4)"
   ]
  },
  {
   "cell_type": "code",
   "execution_count": 28,
   "metadata": {},
   "outputs": [],
   "source": [
    "text_count=file_rdd.map(lambda word:(word,1))"
   ]
  },
  {
   "cell_type": "code",
   "execution_count": 29,
   "metadata": {},
   "outputs": [
    {
     "data": {
      "text/plain": [
       "[('kurd', 1),\n",
       " ('laßwitz', 1),\n",
       " ('bis', 1),\n",
       " ('zum', 1),\n",
       " ('nullpunkt', 1),\n",
       " ('des', 1),\n",
       " ('seins', 1),\n",
       " ('erzählung', 1),\n",
       " ('aus', 1),\n",
       " ('dem', 1)]"
      ]
     },
     "execution_count": 29,
     "metadata": {},
     "output_type": "execute_result"
    }
   ],
   "source": [
    "text_count.take(10)"
   ]
  },
  {
   "cell_type": "code",
   "execution_count": 30,
   "metadata": {},
   "outputs": [],
   "source": [
    "text_count=file_rdd.map(lambda word:(word,5))"
   ]
  },
  {
   "cell_type": "code",
   "execution_count": 31,
   "metadata": {},
   "outputs": [
    {
     "data": {
      "text/plain": [
       "[('kurd', 5),\n",
       " ('laßwitz', 5),\n",
       " ('bis', 5),\n",
       " ('zum', 5),\n",
       " ('nullpunkt', 5),\n",
       " ('des', 5),\n",
       " ('seins', 5),\n",
       " ('erzählung', 5),\n",
       " ('aus', 5),\n",
       " ('dem', 5)]"
      ]
     },
     "execution_count": 31,
     "metadata": {},
     "output_type": "execute_result"
    }
   ],
   "source": [
    "text_count.take(10)"
   ]
  },
  {
   "cell_type": "code",
   "execution_count": 32,
   "metadata": {},
   "outputs": [],
   "source": [
    "text_count_RBK=text_count.reduceByKey(lambda x,y:(x+y)).sortByKey()"
   ]
  },
  {
   "cell_type": "code",
   "execution_count": 33,
   "metadata": {},
   "outputs": [
    {
     "data": {
      "text/plain": [
       "[('16h', 5),\n",
       " ('192d', 5),\n",
       " ('200', 5),\n",
       " ('2005', 5),\n",
       " ('2094', 5),\n",
       " ('2369', 5),\n",
       " ('2371', 15),\n",
       " ('24', 5),\n",
       " ('25', 5),\n",
       " ('250', 5),\n",
       " ('6371m', 5),\n",
       " ('ab', 15),\n",
       " ('abdruckten', 5),\n",
       " ('abend', 20),\n",
       " ('abendliche', 5),\n",
       " ('abendröte', 5),\n",
       " ('abends', 5),\n",
       " ('abendwolken', 5),\n",
       " ('abendzeitung', 5),\n",
       " ('aber', 340),\n",
       " ('abfahren', 5),\n",
       " ('abfliegenden', 5),\n",
       " ('abgefaßt', 5),\n",
       " ('abgehandelt', 5),\n",
       " ('abgehen', 5),\n",
       " ('abgeholt«', 5),\n",
       " ('abgeht', 5),\n",
       " ('abgekühlt', 5),\n",
       " ('abgelöst', 5),\n",
       " ('abgemacht«', 5),\n",
       " ('abgeneigt', 5),\n",
       " ('abgenommen', 5),\n",
       " ('abgeschlossenen', 5),\n",
       " ('abgesehen', 5),\n",
       " ('abgeändert', 10),\n",
       " ('abgrenzt', 5),\n",
       " ('abhängig', 5),\n",
       " ('ableistung', 5),\n",
       " ('abscheulich', 10),\n",
       " ('abscheulichen', 5)]"
      ]
     },
     "execution_count": 33,
     "metadata": {},
     "output_type": "execute_result"
    }
   ],
   "source": [
    "text_count_RBK.take(40)"
   ]
  },
  {
   "cell_type": "code",
   "execution_count": 34,
   "metadata": {},
   "outputs": [],
   "source": [
    "text_count_RBK=text_count_RBK.map(lambda x:(x[1],x[0]))"
   ]
  },
  {
   "cell_type": "code",
   "execution_count": 37,
   "metadata": {},
   "outputs": [
    {
     "data": {
      "text/plain": [
       "[(5, '16h'),\n",
       " (5, '192d'),\n",
       " (5, '200'),\n",
       " (5, '2005'),\n",
       " (5, '2094'),\n",
       " (5, '2369'),\n",
       " (15, '2371'),\n",
       " (5, '24'),\n",
       " (5, '25'),\n",
       " (5, '250'),\n",
       " (5, '6371m'),\n",
       " (15, 'ab'),\n",
       " (5, 'abdruckten'),\n",
       " (20, 'abend'),\n",
       " (5, 'abendliche'),\n",
       " (5, 'abendröte'),\n",
       " (5, 'abends'),\n",
       " (5, 'abendwolken'),\n",
       " (5, 'abendzeitung'),\n",
       " (340, 'aber')]"
      ]
     },
     "execution_count": 37,
     "metadata": {},
     "output_type": "execute_result"
    }
   ],
   "source": [
    "text_count_RBK.take(20)"
   ]
  },
  {
   "cell_type": "code",
   "execution_count": 38,
   "metadata": {},
   "outputs": [
    {
     "data": {
      "text/plain": [
       "[(2055, 'die'),\n",
       " (2040, 'der'),\n",
       " (1715, 'und'),\n",
       " (1065, 'in'),\n",
       " (905, 'den'),\n",
       " (855, 'zu'),\n",
       " (720, 'das'),\n",
       " (710, 'nicht'),\n",
       " (675, 'sie'),\n",
       " (650, 'sich')]"
      ]
     },
     "execution_count": 38,
     "metadata": {},
     "output_type": "execute_result"
    }
   ],
   "source": [
    "text_count_RBK.sortByKey(False).take(10)"
   ]
  },
  {
   "cell_type": "code",
   "execution_count": null,
   "metadata": {},
   "outputs": [],
   "source": []
  }
 ],
 "metadata": {
  "kernelspec": {
   "display_name": "Python 3",
   "language": "python",
   "name": "python3"
  },
  "language_info": {
   "codemirror_mode": {
    "name": "ipython",
    "version": 3
   },
   "file_extension": ".py",
   "mimetype": "text/x-python",
   "name": "python",
   "nbconvert_exporter": "python",
   "pygments_lexer": "ipython3",
   "version": "3.6.9"
  }
 },
 "nbformat": 4,
 "nbformat_minor": 4
}
