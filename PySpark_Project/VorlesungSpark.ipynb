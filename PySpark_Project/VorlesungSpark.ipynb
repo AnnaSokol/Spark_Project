{
 "cells": [
  {
   "cell_type": "code",
   "execution_count": 1,
   "metadata": {},
   "outputs": [],
   "source": [
    "import findspark\n",
    "findspark.init()"
   ]
  },
  {
   "cell_type": "code",
   "execution_count": 2,
   "metadata": {},
   "outputs": [
    {
     "name": "stdout",
     "output_type": "stream",
     "text": [
      "Name: findspark\n",
      "Version: 2.0.1\n",
      "Summary: Find pyspark to make it importable.\n",
      "Home-page: https://github.com/minrk/findspark\n",
      "Author: Min RK\n",
      "Author-email: benjaminrk@gmail.com\n",
      "License: BSD (3-clause)\n",
      "Location: /home/anea/.local/lib/python3.6/site-packages\n",
      "Requires: \n",
      "Required-by: \n",
      "Note: you may need to restart the kernel to use updated packages.\n"
     ]
    }
   ],
   "source": [
    "pip show findspark"
   ]
  },
  {
   "cell_type": "code",
   "execution_count": 3,
   "metadata": {},
   "outputs": [
    {
     "name": "stdout",
     "output_type": "stream",
     "text": [
      "Defaulting to user installation because normal site-packages is not writeable\n",
      "Collecting findspark\n",
      "  Downloading findspark-2.0.1-py2.py3-none-any.whl (4.4 kB)\n",
      "Installing collected packages: findspark\n",
      "Successfully installed findspark-2.0.1\n",
      "Note: you may need to restart the kernel to use updated packages.\n"
     ]
    }
   ],
   "source": [
    "pip install findspark"
   ]
  },
  {
   "cell_type": "code",
   "execution_count": 15,
   "metadata": {},
   "outputs": [],
   "source": [
    "from pyspark import SparkConf, SparkContext"
   ]
  },
  {
   "cell_type": "code",
   "execution_count": 16,
   "metadata": {},
   "outputs": [],
   "source": [
    "conf = SparkConf().setMaster('local').setAppName('WordCounter').set('spark.executor.cores','1')"
   ]
  },
  {
   "cell_type": "code",
   "execution_count": 17,
   "metadata": {},
   "outputs": [
    {
     "ename": "ValueError",
     "evalue": "Cannot run multiple SparkContexts at once; existing SparkContext(app=WordCounter, master=local) created by __init__ at <ipython-input-7-8af254664942>:1 ",
     "output_type": "error",
     "traceback": [
      "\u001b[0;31m---------------------------------------------------------------------------\u001b[0m",
      "\u001b[0;31mValueError\u001b[0m                                Traceback (most recent call last)",
      "\u001b[0;32m<ipython-input-17-8af254664942>\u001b[0m in \u001b[0;36m<module>\u001b[0;34m\u001b[0m\n\u001b[0;32m----> 1\u001b[0;31m \u001b[0msc\u001b[0m \u001b[0;34m=\u001b[0m \u001b[0mSparkContext\u001b[0m\u001b[0;34m(\u001b[0m\u001b[0mconf\u001b[0m \u001b[0;34m=\u001b[0m \u001b[0mconf\u001b[0m\u001b[0;34m)\u001b[0m\u001b[0;34m\u001b[0m\u001b[0;34m\u001b[0m\u001b[0m\n\u001b[0m",
      "\u001b[0;32m~/.local/lib/python3.6/site-packages/pyspark/context.py\u001b[0m in \u001b[0;36m__init__\u001b[0;34m(self, master, appName, sparkHome, pyFiles, environment, batchSize, serializer, conf, gateway, jsc, profiler_cls)\u001b[0m\n\u001b[1;32m    142\u001b[0m                 \" is not allowed as it is a security risk.\")\n\u001b[1;32m    143\u001b[0m \u001b[0;34m\u001b[0m\u001b[0m\n\u001b[0;32m--> 144\u001b[0;31m         \u001b[0mSparkContext\u001b[0m\u001b[0;34m.\u001b[0m\u001b[0m_ensure_initialized\u001b[0m\u001b[0;34m(\u001b[0m\u001b[0mself\u001b[0m\u001b[0;34m,\u001b[0m \u001b[0mgateway\u001b[0m\u001b[0;34m=\u001b[0m\u001b[0mgateway\u001b[0m\u001b[0;34m,\u001b[0m \u001b[0mconf\u001b[0m\u001b[0;34m=\u001b[0m\u001b[0mconf\u001b[0m\u001b[0;34m)\u001b[0m\u001b[0;34m\u001b[0m\u001b[0;34m\u001b[0m\u001b[0m\n\u001b[0m\u001b[1;32m    145\u001b[0m         \u001b[0;32mtry\u001b[0m\u001b[0;34m:\u001b[0m\u001b[0;34m\u001b[0m\u001b[0;34m\u001b[0m\u001b[0m\n\u001b[1;32m    146\u001b[0m             self._do_init(master, appName, sparkHome, pyFiles, environment, batchSize, serializer,\n",
      "\u001b[0;32m~/.local/lib/python3.6/site-packages/pyspark/context.py\u001b[0m in \u001b[0;36m_ensure_initialized\u001b[0;34m(cls, instance, gateway, conf)\u001b[0m\n\u001b[1;32m    353\u001b[0m                         \u001b[0;34m\" created by %s at %s:%s \"\u001b[0m\u001b[0;34m\u001b[0m\u001b[0;34m\u001b[0m\u001b[0m\n\u001b[1;32m    354\u001b[0m                         % (currentAppName, currentMaster,\n\u001b[0;32m--> 355\u001b[0;31m                             callsite.function, callsite.file, callsite.linenum))\n\u001b[0m\u001b[1;32m    356\u001b[0m                 \u001b[0;32melse\u001b[0m\u001b[0;34m:\u001b[0m\u001b[0;34m\u001b[0m\u001b[0;34m\u001b[0m\u001b[0m\n\u001b[1;32m    357\u001b[0m                     \u001b[0mSparkContext\u001b[0m\u001b[0;34m.\u001b[0m\u001b[0m_active_spark_context\u001b[0m \u001b[0;34m=\u001b[0m \u001b[0minstance\u001b[0m\u001b[0;34m\u001b[0m\u001b[0;34m\u001b[0m\u001b[0m\n",
      "\u001b[0;31mValueError\u001b[0m: Cannot run multiple SparkContexts at once; existing SparkContext(app=WordCounter, master=local) created by __init__ at <ipython-input-7-8af254664942>:1 "
     ]
    }
   ],
   "source": [
    "sc = SparkContext(conf = conf)"
   ]
  },
  {
   "cell_type": "code",
   "execution_count": 18,
   "metadata": {},
   "outputs": [],
   "source": [
    "textFile = sc.textFile(\"bisText.txt\")"
   ]
  },
  {
   "cell_type": "code",
   "execution_count": 20,
   "metadata": {},
   "outputs": [],
   "source": [
    "counts = textFile.flatMap(lambda l: re.findall('\\w+', l)).map(lambda w: (w.lower(),1)).reduceByKey(lambda w,k: w + k)"
   ]
  },
  {
   "cell_type": "code",
   "execution_count": 21,
   "metadata": {},
   "outputs": [],
   "source": [
    "output = counts.collect()"
   ]
  },
  {
   "cell_type": "code",
   "execution_count": 14,
   "metadata": {},
   "outputs": [],
   "source": [
    "import re"
   ]
  },
  {
   "cell_type": "code",
   "execution_count": 24,
   "metadata": {},
   "outputs": [
    {
     "name": "stdout",
     "output_type": "stream",
     "text": [
      "Word: kurd,\t\tNumber: 1\n",
      "Word: laßwitz,\t\tNumber: 1\n",
      "Word: bis,\t\tNumber: 16\n",
      "Word: zum,\t\tNumber: 18\n",
      "Word: nullpunkt,\t\tNumber: 4\n",
      "Word: des,\t\tNumber: 125\n",
      "Word: seins,\t\tNumber: 8\n",
      "Word: erzählung,\t\tNumber: 1\n",
      "Word: aus,\t\tNumber: 40\n",
      "Word: dem,\t\tNumber: 74\n",
      "Word: jahre,\t\tNumber: 6\n",
      "Word: 2371,\t\tNumber: 3\n",
      "Word: das,\t\tNumber: 154\n",
      "Word: geruchsklavier,\t\tNumber: 4\n",
      "Word: aromasia,\t\tNumber: 61\n",
      "Word: saß,\t\tNumber: 4\n",
      "Word: im,\t\tNumber: 64\n",
      "Word: garten,\t\tNumber: 2\n",
      "Word: ihres,\t\tNumber: 5\n",
      "Word: hauses,\t\tNumber: 3\n",
      "Word: und,\t\tNumber: 352\n",
      "Word: sah,\t\tNumber: 6\n",
      "Word: träumerisch,\t\tNumber: 1\n",
      "Word: ins,\t\tNumber: 10\n",
      "Word: blau,\t\tNumber: 1\n",
      "Word: schönen,\t\tNumber: 5\n",
      "Word: sommertages,\t\tNumber: 1\n",
      "Word: vom,\t\tNumber: 11\n",
      "Word: sie,\t\tNumber: 139\n",
      "Word: folgte,\t\tNumber: 3\n",
      "Word: mit,\t\tNumber: 80\n",
      "Word: ihren,\t\tNumber: 16\n",
      "Word: blicken,\t\tNumber: 1\n",
      "Word: den,\t\tNumber: 181\n",
      "Word: kleinen,\t\tNumber: 8\n",
      "Word: dunklen,\t\tNumber: 2\n",
      "Word: wolken,\t\tNumber: 3\n",
      "Word: welche,\t\tNumber: 48\n",
      "Word: sich,\t\tNumber: 130\n",
      "Word: hier,\t\tNumber: 14\n",
      "Word: da,\t\tNumber: 20\n",
      "Word: plötzlich,\t\tNumber: 4\n",
      "Word: in,\t\tNumber: 214\n",
      "Word: der,\t\tNumber: 408\n",
      "Word: atmosphäre,\t\tNumber: 4\n",
      "Word: bildeten,\t\tNumber: 2\n",
      "Word: einen,\t\tNumber: 30\n",
      "Word: regenguß,\t\tNumber: 3\n",
      "Word: herabströmen,\t\tNumber: 1\n",
      "Word: ließen,\t\tNumber: 3\n",
      "Word: oder,\t\tNumber: 25\n",
      "Word: spähte,\t\tNumber: 1\n",
      "Word: nach,\t\tNumber: 34\n",
      "Word: fliegenden,\t\tNumber: 1\n",
      "Word: wagen,\t\tNumber: 4\n",
      "Word: luftvelozipeden,\t\tNumber: 1\n",
      "Word: die,\t\tNumber: 414\n",
      "Word: zu,\t\tNumber: 171\n",
      "Word: füßen,\t\tNumber: 5\n",
      "Word: buntem,\t\tNumber: 1\n",
      "Word: gewühle,\t\tNumber: 1\n",
      "Word: breite,\t\tNumber: 1\n",
      "Word: straße,\t\tNumber: 1\n",
      "Word: erfüllten,\t\tNumber: 1\n",
      "Word: denn,\t\tNumber: 25\n",
      "Word: aromasias,\t\tNumber: 15\n",
      "Word: befand,\t\tNumber: 5\n",
      "Word: luftigen,\t\tNumber: 1\n",
      "Word: höhe,\t\tNumber: 3\n",
      "Word: von,\t\tNumber: 97\n",
      "Word: ungefähr,\t\tNumber: 2\n",
      "Word: hundert,\t\tNumber: 1\n",
      "Word: metern,\t\tNumber: 1\n",
      "Word: über,\t\tNumber: 33\n",
      "Word: erdboden,\t\tNumber: 1\n",
      "Word: auf,\t\tNumber: 93\n",
      "Word: dache,\t\tNumber: 2\n",
      "Word: man,\t\tNumber: 52\n",
      "Word: genötigt,\t\tNumber: 2\n",
      "Word: wohnhäuser,\t\tNumber: 1\n",
      "Word: so,\t\tNumber: 92\n",
      "Word: gewaltigen,\t\tNumber: 2\n",
      "Word: dimensionen,\t\tNumber: 1\n",
      "Word: aufzutürmen,\t\tNumber: 1\n",
      "Word: gärten,\t\tNumber: 2\n",
      "Word: ihnen,\t\tNumber: 15\n",
      "Word: anzubringen,\t\tNumber: 1\n",
      "Word: raum,\t\tNumber: 9\n",
      "Word: ebenen,\t\tNumber: 1\n",
      "Word: erde,\t\tNumber: 17\n",
      "Word: ackerbau,\t\tNumber: 1\n",
      "Word: vorbehalten,\t\tNumber: 1\n",
      "Word: mußte,\t\tNumber: 17\n",
      "Word: reichbevölkert,\t\tNumber: 1\n",
      "Word: war,\t\tNumber: 90\n",
      "Word: erdball,\t\tNumber: 1\n",
      "Word: daß,\t\tNumber: 92\n",
      "Word: jedes,\t\tNumber: 5\n",
      "Word: plätzchen,\t\tNumber: 3\n",
      "Word: anbau,\t\tNumber: 1\n"
     ]
    }
   ],
   "source": [
    "for w,c in output[:100]: \n",
    "    print(\"Word: {},\\t\\tNumber: {}\".format(w, c))"
   ]
  },
  {
   "cell_type": "code",
   "execution_count": null,
   "metadata": {},
   "outputs": [],
   "source": []
  },
  {
   "cell_type": "code",
   "execution_count": null,
   "metadata": {},
   "outputs": [],
   "source": []
  }
 ],
 "metadata": {
  "kernelspec": {
   "display_name": "Python 3",
   "language": "python",
   "name": "python3"
  },
  "language_info": {
   "codemirror_mode": {
    "name": "ipython",
    "version": 3
   },
   "file_extension": ".py",
   "mimetype": "text/x-python",
   "name": "python",
   "nbconvert_exporter": "python",
   "pygments_lexer": "ipython3",
   "version": "3.6.9"
  }
 },
 "nbformat": 4,
 "nbformat_minor": 4
}
